{
    "cells": [
        {
            "cell_type": "code",
            "execution_count": 17,
            "metadata": {},
            "outputs": [
                {
                    "name": "stdout",
                    "output_type": "stream",
                    "text": "Requirement already satisfied: geocoder in /opt/conda/envs/Python-3.9/lib/python3.9/site-packages (1.38.1)\nRequirement already satisfied: six in /opt/conda/envs/Python-3.9/lib/python3.9/site-packages (from geocoder) (1.15.0)\nRequirement already satisfied: requests in /opt/conda/envs/Python-3.9/lib/python3.9/site-packages (from geocoder) (2.26.0)\nRequirement already satisfied: future in /opt/conda/envs/Python-3.9/lib/python3.9/site-packages (from geocoder) (0.18.2)\nRequirement already satisfied: click in /opt/conda/envs/Python-3.9/lib/python3.9/site-packages (from geocoder) (8.0.3)\nRequirement already satisfied: ratelim in /opt/conda/envs/Python-3.9/lib/python3.9/site-packages (from geocoder) (0.1.6)\nRequirement already satisfied: decorator in /opt/conda/envs/Python-3.9/lib/python3.9/site-packages (from ratelim->geocoder) (5.1.0)\nRequirement already satisfied: idna<4,>=2.5 in /opt/conda/envs/Python-3.9/lib/python3.9/site-packages (from requests->geocoder) (3.3)\nRequirement already satisfied: urllib3<1.27,>=1.21.1 in /opt/conda/envs/Python-3.9/lib/python3.9/site-packages (from requests->geocoder) (1.26.7)\nRequirement already satisfied: charset-normalizer~=2.0.0 in /opt/conda/envs/Python-3.9/lib/python3.9/site-packages (from requests->geocoder) (2.0.4)\nRequirement already satisfied: certifi>=2017.4.17 in /opt/conda/envs/Python-3.9/lib/python3.9/site-packages (from requests->geocoder) (2022.5.18.1)\nRequirement already satisfied: geopy in /opt/conda/envs/Python-3.9/lib/python3.9/site-packages (2.2.0)\nRequirement already satisfied: geographiclib<2,>=1.49 in /opt/conda/envs/Python-3.9/lib/python3.9/site-packages (from geopy) (1.52)\n"
                }
            ],
            "source": "import numpy as np #library to handle data in a vetorized manner\nimport pandas as pd\npd.set_option('display.max_columns',None)\npd.set_option('display.max_rows',None)\nimport json\n!pip install geocoder\n!pip install geopy\nfrom geopy.geocoders import nominatim\nimport requests\nfrom pandas.io.json import json_normalize\n\nimport matplotlib.cm as cm\nimport matplotlib.colors as colors\n\nfrom sklearn.cluster import KMeans\n"
        },
        {
            "cell_type": "code",
            "execution_count": null,
            "metadata": {},
            "outputs": [],
            "source": ""
        },
        {
            "cell_type": "code",
            "execution_count": null,
            "metadata": {},
            "outputs": [],
            "source": ""
        }
    ],
    "metadata": {
        "kernelspec": {
            "display_name": "Python 3.9",
            "language": "python",
            "name": "python3"
        },
        "language_info": {
            "codemirror_mode": {
                "name": "ipython",
                "version": 3
            },
            "file_extension": ".py",
            "mimetype": "text/x-python",
            "name": "python",
            "nbconvert_exporter": "python",
            "pygments_lexer": "ipython3",
            "version": "3.9.7"
        }
    },
    "nbformat": 4,
    "nbformat_minor": 1
}